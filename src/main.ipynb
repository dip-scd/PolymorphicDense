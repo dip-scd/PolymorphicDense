{
 "cells": [
  {
   "cell_type": "code",
   "execution_count": 3,
   "metadata": {},
   "outputs": [],
   "source": [
    "import numpy as np\n",
    "import tensorflow as tf\n",
    "import tensorflow.keras.layers as tfkl\n",
    "import matplotlib.pyplot as plt\n",
    "\n",
    "from IPython.display import clear_output\n",
    "import time\n",
    "\n",
    "from polymorphic_dense import PolymorphicDense"
   ]
  },
  {
   "cell_type": "code",
   "execution_count": 4,
   "metadata": {
    "scrolled": false
   },
   "outputs": [
    {
     "name": "stdout",
     "output_type": "stream",
     "text": [
      "inputs\n",
      "(None, 1)\n",
      "key\n",
      "(None, 1)\n",
      "key_bias\n",
      "(1,)\n",
      "key\n",
      "(None, 1)\n",
      "raw_similarity\n",
      "(None, 10)\n",
      "weighted_weights\n",
      "(None, 10, 1, 1)\n",
      "kernel\n",
      "(None, 1, 1)\n",
      "output\n",
      "(None, 1)\n",
      "weighted_biases\n",
      "(None, 10, 1)\n",
      "bias\n",
      "(None, 1)\n",
      "Model: \"model\"\n",
      "_________________________________________________________________\n",
      "Layer (type)                 Output Shape              Param #   \n",
      "=================================================================\n",
      "input_1 (InputLayer)         [(None, 1)]               0         \n",
      "_________________________________________________________________\n",
      "polymorphic_dense (Polymorph (None, 1)                 32        \n",
      "=================================================================\n",
      "Total params: 32\n",
      "Trainable params: 32\n",
      "Non-trainable params: 0\n",
      "_________________________________________________________________\n"
     ]
    },
    {
     "data": {
      "text/plain": [
       "<tensorflow.python.keras.callbacks.History at 0x250fd7f9a90>"
      ]
     },
     "execution_count": 4,
     "metadata": {},
     "output_type": "execute_result"
    }
   ],
   "source": [
    "tf.keras.backend.clear_session()\n",
    "\n",
    "inp = tfkl.Input(shape=[1])\n",
    "hid = inp\n",
    "hid = PolymorphicDense(units=1, modes=10, key_size=1)(hid)\n",
    "\n",
    "model = tf.keras.Model(inputs = inp, outputs = hid)\n",
    "model.summary()\n",
    "\n",
    "optimizer = tf.optimizers.Nadam(.1)\n",
    "model.compile(loss='MSE', optimizer=optimizer)\n",
    "\n",
    "inps = 201\n",
    "scope = 10\n",
    "v_scaling = 2\n",
    "x = np.reshape(np.linspace(-scope, scope, inps), [-1, 1])\n",
    "y = np.sin(x*15/scope)*x+x\n",
    "\n",
    "vx = np.reshape(np.linspace(-int(scope*v_scaling), int(scope*v_scaling), inps), [-1, 1])\n",
    "vy = np.sin(vx*15/scope)*vx+vx\n",
    "\n",
    "\n",
    "model.fit(x=x, y=y, epochs=1, verbose=0)"
   ]
  },
  {
   "cell_type": "code",
   "execution_count": 5,
   "metadata": {},
   "outputs": [
    {
     "data": {
      "image/png": "[encoded data removed]",
      "text/plain": [
       "<Figure size 432x288 with 1 Axes>"
      ]
     },
     "metadata": {
      "needs_background": "light"
     },
     "output_type": "display_data"
    }
   ],
   "source": [
    "for step in range(30):\n",
    "    model.fit(x=x, y=y, epochs=1, verbose=0)\n",
    "    vy_ = np.reshape(model.predict(vx), [-1])\n",
    "    clear_output(wait=True)\n",
    "    \n",
    "    vyr = np.reshape(vy, [-1])\n",
    "    plt.plot(vyr)\n",
    "    plt.plot(vy_)\n",
    "    plt.show()"
   ]
  },
  {
   "cell_type": "code",
   "execution_count": null,
   "metadata": {},
   "outputs": [],
   "source": []
  }
 ],
 "metadata": {
  "kernelspec": {
   "display_name": "Python 3",
   "language": "python",
   "name": "python3"
  },
  "language_info": {
   "codemirror_mode": {
    "name": "ipython",
    "version": 3
   },
   "file_extension": ".py",
   "mimetype": "text/x-python",
   "name": "python",
   "nbconvert_exporter": "python",
   "pygments_lexer": "ipython3",
   "version": "3.7.1"
  }
 },
 "nbformat": 4,
 "nbformat_minor": 2
}
